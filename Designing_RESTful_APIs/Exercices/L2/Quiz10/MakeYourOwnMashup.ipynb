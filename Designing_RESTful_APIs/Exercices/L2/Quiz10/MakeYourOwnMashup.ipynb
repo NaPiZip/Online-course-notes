{
 "cells": [
  {
   "cell_type": "markdown",
   "metadata": {},
   "source": [
    "# Make your own Mashup"
   ]
  },
  {
   "cell_type": "code",
   "execution_count": 45,
   "metadata": {},
   "outputs": [],
   "source": [
    "from Geocode import GeocodeLocation\n",
    "\n",
    "def findARestaurant(mealType,location):\n",
    "    #1. Use getGeocodeLocation to get the latitude and longitude coordinates of the location string.\n",
    "\n",
    "    #2.  Use foursquare API to find a nearby restaurant with the latitude, longitude, and mealType strings.\n",
    "    #HINT: format for url will be something like https://api.foursquare.com/v2/venues/search?client_id=CLIENT_ID&client_secret=CLIENT_SECRET&v=20130815&ll=40.7,-74&query=sushi\n",
    "\n",
    "    #3. Grab the first restaurant\n",
    "    #4. Get a  300x300 picture of the restaurant using the venue_id (you can change this by altering the 300x300 value in the URL or replacing it with 'orginal' to get the original picture\n",
    "    #5. Grab the first image\n",
    "    #6. If no image is available, insert default a image url\n",
    "    #7. Return a dictionary containing the restaurant name, address, and image url\t\n",
    "\n"
   ]
  },
  {
   "cell_type": "code",
   "execution_count": 47,
   "metadata": {},
   "outputs": [
    {
     "name": "stdout",
     "output_type": "stream",
     "text": [
      "{'lat': 35.680071, 'lng': 139.768522}\n"
     ]
    }
   ],
   "source": [
    "if __name__ == '__main__':\n",
    "    mapquest_key = ''\n",
    "    obj = GeocodeLocation(mapquest_key)\n",
    "    print(obj.getGeocodeLocation('Tokyo, Japan'))\n",
    "    "
   ]
  },
  {
   "cell_type": "code",
   "execution_count": 51,
   "metadata": {},
   "outputs": [],
   "source": [
    "import requests\n",
    "location = {'lat': 35.680071, 'lng': 139.768522}\n",
    "params = dict(client_id='',\n",
    "              client_secret= '',\n",
    "              v='20180323',\n",
    "              ll='35.680071, 139.768522',#'{},{}'.format(location['lat'],location['lng']),\n",
    "              query='pizza',\n",
    "              limit=1\n",
    "            )\n",
    "\n",
    "r = requests.get('https://api.foursquare.com/v2/venues/search',params=params)"
   ]
  },
  {
   "cell_type": "code",
   "execution_count": 52,
   "metadata": {},
   "outputs": [
    {
     "name": "stdout",
     "output_type": "stream",
     "text": [
      "https://api.foursquare.com/v2/venues/search?client_id=EIVITHXWR324VD1ORGYHMNHYWLPPCPWXBES5MYSAOHDUMUNB&client_secret=BDCGLQ5XCDQ4E3I1V4EHODBZUQQ1Z3QH3D1B4PU0HHCQUE4D&v=20180323&ll=35.680071%2C+139.768522&query=pizza&limit=1\n"
     ]
    }
   ],
   "source": [
    "print(r.url)"
   ]
  },
  {
   "cell_type": "code",
   "execution_count": 33,
   "metadata": {},
   "outputs": [],
   "source": [
    "response_dict = json.loads(r.text)"
   ]
  },
  {
   "cell_type": "code",
   "execution_count": 34,
   "metadata": {},
   "outputs": [
    {
     "data": {
      "text/plain": [
       "200"
      ]
     },
     "execution_count": 34,
     "metadata": {},
     "output_type": "execute_result"
    }
   ],
   "source": [
    "response_dict.get('meta').get('code')\n"
   ]
  },
  {
   "cell_type": "code",
   "execution_count": 50,
   "metadata": {},
   "outputs": [
    {
     "name": "stdout",
     "output_type": "stream",
     "text": [
      "<class 'dict'>\n",
      "Starbucks (Starbucks Coffee)\n"
     ]
    },
    {
     "data": {
      "text/plain": [
       "'597185d60802d42bc89acd2f'"
      ]
     },
     "execution_count": 50,
     "metadata": {},
     "output_type": "execute_result"
    }
   ],
   "source": [
    "print(type())\n",
    "print(response_dict.get('response').get('venues')[0].get('name'))\n",
    "response_dict.get('response').get('venues')[0].get('id')"
   ]
  },
  {
   "cell_type": "code",
   "execution_count": null,
   "metadata": {},
   "outputs": [],
   "source": []
  }
 ],
 "metadata": {
  "kernelspec": {
   "display_name": "Python 3",
   "language": "python",
   "name": "python3"
  },
  "language_info": {
   "codemirror_mode": {
    "name": "ipython",
    "version": 3
   },
   "file_extension": ".py",
   "mimetype": "text/x-python",
   "name": "python",
   "nbconvert_exporter": "python",
   "pygments_lexer": "ipython3",
   "version": "3.7.1"
  }
 },
 "nbformat": 4,
 "nbformat_minor": 2
}

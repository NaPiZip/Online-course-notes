{
 "cells": [
  {
   "cell_type": "markdown",
   "metadata": {},
   "source": [
    "# Using the Foursquare API"
   ]
  },
  {
   "cell_type": "code",
   "execution_count": 55,
   "metadata": {},
   "outputs": [
    {
     "name": "stdout",
     "output_type": "stream",
     "text": [
      "Mountain View = 37.392971, -122.076044\n",
      "Fast Pizza Delivery\n",
      "Miami = 25.773822, -80.237947\n",
      "Sushi Maki\n",
      "Washington = 38.897478, -77.000147\n",
      "Dunkin' Donuts\n",
      "New York = 40.768349, -73.96575\n",
      "Just Salad\n"
     ]
    }
   ],
   "source": [
    "import json, requests\n",
    "url = 'https://api.foursquare.com/v2/venues/search'\n",
    "\n",
    "params = dict(\n",
    "  client_id='',\n",
    "  client_secret='',\n",
    "  v='20180323',\n",
    "  ll='',\n",
    "  query='',\n",
    "  limit=1\n",
    ")\n",
    "\n",
    "ll = {'Mountain View':'37.392971, -122.076044',\n",
    "      'Miami':'25.773822, -80.237947',\n",
    "      'Washington':'38.897478, -77.000147',\n",
    "      'New York':'40.768349, -73.96575'}\n",
    "\n",
    "query = {'Mountain View':'Pizza',\n",
    "      'Miami':'Sushi',\n",
    "      'Washington':'Donuts',\n",
    "      'New York':'Salad'}\n",
    "\n",
    "\n",
    "for key,value in ll.items():\n",
    "    print(\"{:s} = {:s}\".format(key, value))\n",
    "    \n",
    "    params['ll'] = value\n",
    "    params['query'] = query[key]\n",
    "    resp = requests.get(url=url, params=params)\n",
    "    data = json.loads(resp.text)\n",
    "    if data.get('meta').get('code') == requests.codes.ok:\n",
    "        print(data.get('response').get('venues')[0].get('name'))\n",
    "\n"
   ]
  },
  {
   "cell_type": "code",
   "execution_count": null,
   "metadata": {},
   "outputs": [],
   "source": []
  }
 ],
 "metadata": {
  "kernelspec": {
   "display_name": "Python 3",
   "language": "python",
   "name": "python3"
  },
  "language_info": {
   "codemirror_mode": {
    "name": "ipython",
    "version": 3
   },
   "file_extension": ".py",
   "mimetype": "text/x-python",
   "name": "python",
   "nbconvert_exporter": "python",
   "pygments_lexer": "ipython3",
   "version": "3.7.1"
  }
 },
 "nbformat": 4,
 "nbformat_minor": 2
}

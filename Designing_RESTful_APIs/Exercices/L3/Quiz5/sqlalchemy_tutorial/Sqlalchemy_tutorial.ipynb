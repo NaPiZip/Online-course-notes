{
 "cells": [
  {
   "cell_type": "markdown",
   "metadata": {},
   "source": [
    "# Sqlalchemy tutorial\n",
    "### Python's SQLAlchemy and Object-Relational Mapping\n",
    "\n",
    "A common task when programming any web service is the construction of a solid database backend. In the past, programmers would write raw SQL statements, pass them to the database engine and parse the returned results as a normal array of records. Nowadays, programmers can write Object-relational mapping (ORM) programs to remove the necessity of writing tedious and error-prone raw SQL statements that are inflexible and hard-to-maintain. This tutorial is provided by [pythoncentral](https://www.pythoncentral.io/introductory-tutorial-python-sqlalchemy/)."
   ]
  },
  {
   "cell_type": "markdown",
   "metadata": {},
   "source": [
    "<p align=\"center\">\n",
    "<img src=\"https://www.pythoncentral.io/wp-content/uploads/2013/04/SQLAlchemyPersonAddress.png\" alt=\"OSI layer model example.\"/></p>"
   ]
  },
  {
   "cell_type": "code",
   "execution_count": 1,
   "metadata": {},
   "outputs": [],
   "source": [
    "'''\n",
    "sqlite_ex.py\n",
    "'''\n",
    "import sqlite3\n",
    "\n",
    "con = sqlite3.connect('Example.db')\n",
    "cur = con.cursor()\n",
    "\n",
    "cur.execute('''\n",
    "            CREATE TABLE person\n",
    "            (id INEGER PRIMARY KEY ASC, name varchar(250) NOT NULL)\n",
    "            ''')\n",
    "cur.execute('''\n",
    "            CREATE TABLE address\n",
    "            (id INTEGER PRIMARY KEY ASC, street_name varchar(250), street_number varchar(250), post_code varchar(250) NOT NULL, person_id INTEGER NOT NULL, FOREIGN KEY(person_id) REFERENCES person(id))\n",
    "            ''')\n",
    "\n",
    "cur.execute(\"INSERT INTO person VALUES(1, 'pythoncentral')\")\n",
    "cur.execute(\"INSERT INTO address VALUES(1, 'python road', '1', '00000', 1)\")\n",
    "\n",
    "con.commit()\n",
    "con.close()"
   ]
  },
  {
   "cell_type": "code",
   "execution_count": 10,
   "metadata": {},
   "outputs": [
    {
     "name": "stdout",
     "output_type": "stream",
     "text": [
      "[(1, 'pythoncentral')]\n",
      "(1, 'python road', '1', '00000', 1)\n",
      "[(1, 'pythonmain')]\n",
      "[(1, 'pythonmain'), (2, 'pythondivision')]\n",
      "[(2, 'pythondivision')]\n"
     ]
    }
   ],
   "source": [
    "'''\n",
    "sqlite_query.py\n",
    "\n",
    "This example shows how to use the CURD (Create, Update, Read, Delete) data in the database.\n",
    "'''\n",
    "import sqlite3\n",
    "con = sqlite3.connect('Example.db')\n",
    "\n",
    "cur = con.cursor()\n",
    "cur.execute('SELECT * FROM person')\n",
    "print(cur.fetchall())\n",
    "cur.execute('SELECT * FROM address')\n",
    "print(cur.fetchall()[0])\n",
    "cur.execute('UPDATE person SET name = ?',('pythonmain',))\n",
    "cur.execute('SELECT * FROM person')\n",
    "print(cur.fetchall())\n",
    "cur.execute(\"INSERT into person VALUES(2, 'pythondivision')\")\n",
    "cur.execute('SELECT * FROM person')\n",
    "print(cur.fetchall())\n",
    "cur.execute('DELETE FROM person WHERE id=?',(1,))\n",
    "cur.execute('SELECT * FROM person')\n",
    "print(cur.fetchall())\n",
    "con.close()"
   ]
  },
  {
   "cell_type": "markdown",
   "metadata": {},
   "source": [
    "### Python's SQLAlchemy and Declarative\n",
    "There are three most important components in writing SQLAlchemy code:\n",
    "\n",
    "    - A Table that represents a table in a database.\n",
    "    - A mapper that maps a Python class to a table in a database.\n",
    "    - A class object that defines how a database record maps to a normal Python object.\n",
    "\n",
    "Instead of having to write code for Table, mapper and the class object at different places, SQLAlchemy's declarative allows a Table, a mapper and a class object to be defined at once in one class definition."
   ]
  },
  {
   "cell_type": "code",
   "execution_count": 44,
   "metadata": {},
   "outputs": [],
   "source": [
    "'''\n",
    "sqlalchemy_declarative.py\n",
    "\n",
    "This example shows how to setup a data base with sqlalchemy.\n",
    "'''\n",
    "import sys\n",
    "from sqlalchemy import Column, ForeignKey, Integer, String\n",
    "from sqlalchemy.ext.declarative import declarative_base\n",
    "from sqlalchemy.orm import relationship\n",
    "from sqlalchemy import create_engine\n",
    "\n",
    "Base = declarative_base()\n",
    "\n",
    "class Person(Base):\n",
    "    __tablename__= 'person'\n",
    "    id = Column(Integer, primary_key=True)\n",
    "    name = Column(String(250), nullable=False)\n",
    "    \n",
    "class Address(Base):\n",
    "    __tablename__ = 'address'\n",
    "    id = Column(Integer, primary_key=True)\n",
    "    street_name = Column(String(250))\n",
    "    street_number = Column(String(250))\n",
    "    post_code = Column(String(250),nullable=False)\n",
    "    person_id = Column(Integer, ForeignKey('person.id'))\n",
    "    person = relationship(Person)\n",
    "\n",
    "engine = create_engine('sqlite:///sqlalchemy_example.db')\n",
    "Base.metadata.create_all(engine)"
   ]
  },
  {
   "cell_type": "code",
   "execution_count": 45,
   "metadata": {},
   "outputs": [],
   "source": [
    "'''\n",
    "sqlalchemy_insert.py\n",
    "\n",
    "This example shows how to store data into the sqlalchemy data base.\n",
    "'''\n",
    "from sqlalchemy import create_engine\n",
    "from sqlalchemy.orm import sessionmaker\n",
    "\n",
    "#from sqlalchemy_declaritive import Address, Base, Person\n",
    "\n",
    "engine = create_engine('sqlite:///sqlalchemy_example.db')\n",
    "Base.metadata.bind = engine\n",
    "\n",
    "DBSession = sessionmaker(bind=engine)\n",
    "session = DBSession()\n",
    "\n",
    "new_person = Person(name='Nawin')\n",
    "session.add(new_person)\n",
    "session.commit()\n",
    "\n",
    "new_address = Address(post_code='48103',street_name ='West Huron Street', person=new_person)\n",
    "session.add(new_address)\n",
    "session.commit()\n"
   ]
  },
  {
   "cell_type": "code",
   "execution_count": 63,
   "metadata": {},
   "outputs": [
    {
     "name": "stdout",
     "output_type": "stream",
     "text": [
      "Person Id:1 Name:Nawin\n",
      "Person Id:2 Name:Nawin\n",
      "Person Id:3 Name:Nawin\n",
      "Person Id:4 Name:Nawin\n",
      "Person Id:5 Name:Tim\n",
      "Person Id:6 Name:Tim\n",
      "Person Id:1 Name:Nawin\n",
      "Address Id:1 Person Name: Nawin\n",
      "Address Id:1 Person Name: Nawin\n"
     ]
    }
   ],
   "source": [
    "'''\n",
    "sqlalchemy_declarative.py\n",
    "\n",
    "This example shows how to query the data from the sqlalchemy data base.\n",
    "'''\n",
    "\n",
    "#from sqlalchemy import Person, Base, Address\n",
    "from sqlalchemy import create_engine\n",
    "from sqlalchemy.orm import sessionmaker\n",
    "\n",
    "engine = create_engine('sqlite:///sqlalchemy_example.db')\n",
    "Base.metadata.bind = engine\n",
    "\n",
    "DBSession = sessionmaker(bind=engine)\n",
    "session = DBSession()\n",
    "\n",
    "for i in session.query(Person).all():\n",
    "    print(\"Person Id:{} Name:{}\".format(i.id, i.name))\n",
    "\n",
    "person = session.query(Person).first()\n",
    "\n",
    "print(\"Person Id:{} Name:{}\".format(person.id, person.name))\n",
    "\n",
    "address = session.query(Address).first()\n",
    "print(\"Address Id:{} Person Name: {}\".format(address.id, address.person.name))\n",
    "\n",
    "finding = session.query(Person).filter(Person.name==address.person.name).first()\n",
    "\n",
    "print(\"Address Id:{} Person Name: {}\".format(finding.id, finding.name))\n"
   ]
  },
  {
   "cell_type": "markdown",
   "metadata": {},
   "source": [
    "### Summary of Python's SQLAlchemy\n",
    "\n",
    "In this article, we learned how to write database code using SQLAlchemy's declaratives. Compared to writing the traditional raw SQL statements using sqlite3, SQLAlchemy's code is more object-oriented and easier to read and maintain. In addition, we can easily create, read, update and delete SQLAlchemy objects like they're normal Python objects.\n",
    "\n",
    "You might be wondering that if SQLAlchemy's just a thin layer of abstraction above the raw SQL statements, then it's not very impressive and you might prefer to writing raw SQL statements instead. In the following articles of this series, we're going to investigate various aspects of SQLAlchemy and compare it against raw SQL statements when they're both used to implement the same functionalities. I believe at the end of this series, you will be convinced that SQLAlchemy is superior to writing raw SQL statements."
   ]
  }
 ],
 "metadata": {
  "kernelspec": {
   "display_name": "Python 3",
   "language": "python",
   "name": "python3"
  },
  "language_info": {
   "codemirror_mode": {
    "name": "ipython",
    "version": 3
   },
   "file_extension": ".py",
   "mimetype": "text/x-python",
   "name": "python",
   "nbconvert_exporter": "python",
   "pygments_lexer": "ipython3",
   "version": "3.7.1"
  }
 },
 "nbformat": 4,
 "nbformat_minor": 2
}
